{
 "cells": [
  {
   "cell_type": "code",
   "execution_count": 66,
   "metadata": {},
   "outputs": [],
   "source": [
    "\n",
    "Theoretical Questions\n",
    "\n",
    "1. What type of language is Python? Which language is Python built on?\n",
    "        Python is an object-oriented language and is written in C. \n",
    "2. Is a docx file read in the same way as a txt file?\n",
    "        No...(?)\n",
    "3. What is the difference between a list and a set?\n",
    "        A list contains any objects, set is a list of unique items\n",
    "4. Which of the following if statements is a correct representation chained if statements? Multiple answers are allowed.\n",
    "        OPTION A, OPTION D, OPTION E \n",
    "5. What is an f string?\n",
    "        f-strings are a concise way to embed python expressions inside string literals for formatting\n",
    "6. What are the benefits of writing a function? List at least 2.\n",
    "        Improving clarity of the code, making complex problems into simpler pieces, easy to re-use\n",
    "7. What are some native words of Python? How can we identify them?\n",
    "        TAB or SHIFT TAB TAB (?)\n",
    "8. What do we refer to a position of a list? Which value does the first position start with? \n",
    "        Position = where the item is located within a list. First position = 0 as Python uses zero-based indexing. "
   ]
  },
  {
   "cell_type": "code",
   "execution_count": null,
   "metadata": {},
   "outputs": [],
   "source": [
    "\n",
    "QUESTION 1:\n"
   ]
  },
  {
   "cell_type": "code",
   "execution_count": 10,
   "metadata": {},
   "outputs": [
    {
     "name": "stdout",
     "output_type": "stream",
     "text": [
      "10\n"
     ]
    }
   ],
   "source": [
    "#example for integer\n",
    "int_1 = 5 \n",
    "int_2 = 5\n",
    "new_int = int_1 + int_2\n",
    "\n",
    "print(new_int)"
   ]
  },
  {
   "cell_type": "code",
   "execution_count": 11,
   "metadata": {},
   "outputs": [
    {
     "name": "stdout",
     "output_type": "stream",
     "text": [
      "10\n"
     ]
    }
   ],
   "source": [
    "# complete for string\n",
    "str_1 = \"1\"\n",
    "str_2 = \"0\"\n",
    "new_str = str_1 + str_2\n",
    "\n",
    "print(new_str)"
   ]
  },
  {
   "cell_type": "code",
   "execution_count": 12,
   "metadata": {},
   "outputs": [
    {
     "name": "stdout",
     "output_type": "stream",
     "text": [
      "10.0\n"
     ]
    }
   ],
   "source": [
    "# complete for float\n",
    "float_1 = 8.1\n",
    "float_2 = 1.9\n",
    "new_float = float_1 + float_2\n",
    "\n",
    "print(new_float)"
   ]
  },
  {
   "cell_type": "code",
   "execution_count": 14,
   "metadata": {},
   "outputs": [
    {
     "name": "stdout",
     "output_type": "stream",
     "text": [
      "2\n"
     ]
    }
   ],
   "source": [
    "# complete for bool\n",
    "bool_1 = True\n",
    "bool_2 = True\n",
    "new_bool = bool_1 + bool_2\n",
    "\n",
    "print(new_bool)"
   ]
  },
  {
   "cell_type": "code",
   "execution_count": 15,
   "metadata": {},
   "outputs": [
    {
     "name": "stdout",
     "output_type": "stream",
     "text": [
      "[1, 2, 3, 4, 5, 6, 7, 8, 9, 10]\n"
     ]
    }
   ],
   "source": [
    "# complete for list (option 1)\n",
    "list_1 = [1, 2, 3, 4, 5]\n",
    "list_2 = [6, 7, 8, 9, 10]\n",
    "new_list = list_1 + list_2\n",
    "\n",
    "print(new_list)"
   ]
  },
  {
   "cell_type": "code",
   "execution_count": 1,
   "metadata": {},
   "outputs": [
    {
     "name": "stdout",
     "output_type": "stream",
     "text": [
      "[1, 2, 3, 4, 5, 6, 7, 8, 9, 10]\n"
     ]
    }
   ],
   "source": [
    "# complete for list (option 2)\n",
    "\n",
    "list_1 = [1, 2, 3, 4, 5]\n",
    "list_2 = [6, 7, 8, 9, 10]\n",
    "list_1.extend(list_2)\n",
    "\n",
    "print(list_1)"
   ]
  },
  {
   "cell_type": "code",
   "execution_count": 4,
   "metadata": {},
   "outputs": [
    {
     "name": "stdout",
     "output_type": "stream",
     "text": [
      "{'one': 1, 'nine': 9}\n"
     ]
    }
   ],
   "source": [
    "# complete for dictionary\n",
    "dict_1 = {'one':1}\n",
    "dict_2 = {'nine':9}\n",
    "\n",
    "new_dict = dict(dict_1)\n",
    "new_dict.update(dict_2)\n",
    "\n",
    "\n",
    "print(new_dict)"
   ]
  },
  {
   "cell_type": "code",
   "execution_count": 15,
   "metadata": {},
   "outputs": [
    {
     "data": {
      "text/html": [
       "<div>\n",
       "<style scoped>\n",
       "    .dataframe tbody tr th:only-of-type {\n",
       "        vertical-align: middle;\n",
       "    }\n",
       "\n",
       "    .dataframe tbody tr th {\n",
       "        vertical-align: top;\n",
       "    }\n",
       "\n",
       "    .dataframe thead th {\n",
       "        text-align: right;\n",
       "    }\n",
       "</style>\n",
       "<table border=\"1\" class=\"dataframe\">\n",
       "  <thead>\n",
       "    <tr style=\"text-align: right;\">\n",
       "      <th></th>\n",
       "      <th>a</th>\n",
       "    </tr>\n",
       "  </thead>\n",
       "  <tbody>\n",
       "    <tr>\n",
       "      <th>0</th>\n",
       "      <td>1</td>\n",
       "    </tr>\n",
       "    <tr>\n",
       "      <th>1</th>\n",
       "      <td>2</td>\n",
       "    </tr>\n",
       "    <tr>\n",
       "      <th>2</th>\n",
       "      <td>34523</td>\n",
       "    </tr>\n",
       "    <tr>\n",
       "      <th>0</th>\n",
       "      <td>1</td>\n",
       "    </tr>\n",
       "    <tr>\n",
       "      <th>1</th>\n",
       "      <td>35</td>\n",
       "    </tr>\n",
       "    <tr>\n",
       "      <th>2</th>\n",
       "      <td>325</td>\n",
       "    </tr>\n",
       "    <tr>\n",
       "      <th>3</th>\n",
       "      <td>5235</td>\n",
       "    </tr>\n",
       "  </tbody>\n",
       "</table>\n",
       "</div>"
      ],
      "text/plain": [
       "       a\n",
       "0      1\n",
       "1      2\n",
       "2  34523\n",
       "0      1\n",
       "1     35\n",
       "2    325\n",
       "3   5235"
      ]
     },
     "execution_count": 15,
     "metadata": {},
     "output_type": "execute_result"
    }
   ],
   "source": [
    "# complete for dataframe, idea is to have a single column where one df is added above the other one\n",
    "\n",
    "import pandas as pd\n",
    "\n",
    "df_1 = pd.DataFrame({'a':[1,2,34523]})\n",
    "columns=['a']\n",
    "df_2 = pd.DataFrame({'a':[1,35,325,5235]}) \n",
    "columns=['a']\n",
    "\n",
    "pd.concat([df_1, df_2], axis=0)"
   ]
  },
  {
   "cell_type": "code",
   "execution_count": null,
   "metadata": {
    "collapsed": true
   },
   "outputs": [],
   "source": [
    "\n",
    "QUESTION 2\n"
   ]
  },
  {
   "cell_type": "code",
   "execution_count": 81,
   "metadata": {},
   "outputs": [
    {
     "name": "stdout",
     "output_type": "stream",
     "text": [
      "[1, 2, 3, 4, 5, 6, 7]\n"
     ]
    }
   ],
   "source": [
    "#2.1 (option 1)\n",
    "\n",
    "#Have the following list cleaned up where there is only one for for each different value.\n",
    "\n",
    "list_ = [1,2,3,4,1,2,3,4,2,2,5,5,6,6,7,7]\n",
    "unique_list = list(dict.fromkeys(list_)) #dictionaries cannot have duplicate keys\n",
    "list_ = list(unique_list)\n",
    "\n",
    "print(list_)\n"
   ]
  },
  {
   "cell_type": "code",
   "execution_count": 4,
   "metadata": {},
   "outputs": [
    {
     "name": "stdout",
     "output_type": "stream",
     "text": [
      "[1, 2, 3, 4, 5, 6, 7]\n"
     ]
    }
   ],
   "source": [
    "#2.1 (option 2)\n",
    "\n",
    "list_ = [1,2,3,4,1,2,3,4,2,2,5,5,6,6,7,7]\n",
    "unique_list = set(list_) #sets cannot have duplicate items\n",
    "\n",
    "list_ = list(unique_list) #assign back to a list\n",
    "\n",
    "print(list_)"
   ]
  },
  {
   "cell_type": "code",
   "execution_count": 97,
   "metadata": {
    "scrolled": true
   },
   "outputs": [
    {
     "name": "stdout",
     "output_type": "stream",
     "text": [
      "[1, 2, 3, 4, 5, 6, 7]\n"
     ]
    }
   ],
   "source": [
    "#2.2 (option 1)\n",
    "\n",
    "def unique_list(list_):\n",
    "    unique_list = list(set(list_))\n",
    "    return (new_list)\n",
    "\n",
    "list_ = [1,2,3,4,1,2,3,4,2,2,5,5,6,6,7,7]\n",
    "\n",
    "print (new_list)"
   ]
  },
  {
   "cell_type": "code",
   "execution_count": 95,
   "metadata": {},
   "outputs": [
    {
     "name": "stdout",
     "output_type": "stream",
     "text": [
      "[1, 2, 3, 4, 5, 6, 7]\n"
     ]
    }
   ],
   "source": [
    "\n",
    "#2.2 (option 2)\n",
    "\n",
    "def clean_list(list_):\n",
    "    new_list = list(dict.fromkeys(list_))\n",
    "    return new_list\n",
    "\n",
    "new_list = clean_list(list_)\n",
    "\n",
    "list_ = [1,2,3,4,1,2,3,4,2,2,5,5,6,6,7,7]\n",
    "\n",
    "print(new_list)"
   ]
  },
  {
   "cell_type": "code",
   "execution_count": 103,
   "metadata": {},
   "outputs": [
    {
     "name": "stdout",
     "output_type": "stream",
     "text": [
      "[1, 2, 3, 4, 5, 6, 7]\n"
     ]
    }
   ],
   "source": [
    "#2.2 (option 3)\n",
    "\n",
    "def clean_list(list_):\n",
    "    clean_list=[]\n",
    "    for x in list_:\n",
    "        if x not in clean_list:\n",
    "            clean_list.append(x)\n",
    "    return new_list\n",
    "\n",
    "list_ = [1,2,3,4,1,2,3,4,2,2,5,5,6,6,7,7]\n",
    "            \n",
    "\n",
    "print(new_list)"
   ]
  },
  {
   "cell_type": "code",
   "execution_count": 24,
   "metadata": {},
   "outputs": [],
   "source": [
    "\n",
    "QUESTION 3\n"
   ]
  },
  {
   "cell_type": "code",
   "execution_count": 93,
   "metadata": {},
   "outputs": [
    {
     "name": "stdout",
     "output_type": "stream",
     "text": [
      "[1, 2, 3, 4, 5, 6, 7]\n"
     ]
    }
   ],
   "source": [
    "new_list = clean_list(list_)\n",
    "\n",
    "list_ = [1,2,3,4,1,2,3,4,2,2,5,5,6,6,7,7]\n",
    "\n",
    "new_list=[]\n",
    "for x in list_:\n",
    "    if x not in new_list:\n",
    "        new_list.append(x)\n",
    "\n",
    "print(new_list)"
   ]
  },
  {
   "cell_type": "code",
   "execution_count": 1,
   "metadata": {},
   "outputs": [
    {
     "data": {
      "text/plain": [
       "'My name is Nadia and I am 25 years old.'"
      ]
     },
     "execution_count": 1,
     "metadata": {},
     "output_type": "execute_result"
    }
   ],
   "source": [
    "#ex: print_name_age(\"Jacques\", 22)\n",
    "    #output: \"My name is Jacques and I am 22 years old.\n",
    "    \n",
    "def print_name_age(name: str, age: int) -> str:\n",
    "    return \"My name is \" + name + \" and I am \" + age + \" years old.\"\n",
    "\n",
    "name = \"Nadia\"\n",
    "age = \"25\"\n",
    "\n",
    "print_name_age(name, age)"
   ]
  },
  {
   "cell_type": "code",
   "execution_count": null,
   "metadata": {},
   "outputs": [],
   "source": [
    "\n",
    "QUESTION 4\n"
   ]
  },
  {
   "cell_type": "code",
   "execution_count": 35,
   "metadata": {
    "scrolled": true
   },
   "outputs": [
    {
     "name": "stdout",
     "output_type": "stream",
     "text": [
      "Input is outside of list length which is: 3\n"
     ]
    }
   ],
   "source": [
    "#Assume we are trying to access an index of a list that does not exist.\n",
    "\n",
    "#list_ = [1,2,3]\n",
    "#list_[10]\n",
    "#output: indexerror\n",
    "\n",
    "#What is a way to help manage the error when a value is selected when we do not mean it? Edit the block of code accordingly.\n",
    "\n",
    "list_ = [1,2,3]\n",
    "\n",
    "try:\n",
    "    list_[10]\n",
    "\n",
    "except: \n",
    "    print(\"Input is outside of list length which is:\", len(list_))"
   ]
  },
  {
   "cell_type": "code",
   "execution_count": 140,
   "metadata": {},
   "outputs": [],
   "source": [
    "\n",
    "LEET CODE QUESTIONS\n"
   ]
  },
  {
   "cell_type": "code",
   "execution_count": null,
   "metadata": {},
   "outputs": [],
   "source": [
    "QUESTION 1"
   ]
  },
  {
   "cell_type": "code",
   "execution_count": 206,
   "metadata": {
    "scrolled": true
   },
   "outputs": [
    {
     "data": {
      "text/plain": [
       "[1, 3, 6, 10]"
      ]
     },
     "execution_count": 206,
     "metadata": {},
     "output_type": "execute_result"
    }
   ],
   "source": [
    "def runningSum(nums):\n",
    "    for i in range (1, len(nums)):\n",
    "        nums[i] += nums[i-1]\n",
    "    return nums\n",
    "\n",
    "nums = [1, 2, 3, 4]\n",
    "\n",
    "runningSum(nums)"
   ]
  },
  {
   "cell_type": "code",
   "execution_count": null,
   "metadata": {},
   "outputs": [],
   "source": [
    "\n",
    "QUESTION 2\n"
   ]
  },
  {
   "cell_type": "code",
   "execution_count": 202,
   "metadata": {},
   "outputs": [
    {
     "data": {
      "text/plain": [
       "'1[.]1[.]1[.]1[.]1'"
      ]
     },
     "execution_count": 202,
     "metadata": {},
     "output_type": "execute_result"
    }
   ],
   "source": [
    "#Given a valid (IPv4) IP address, return a defanged version of that IP address.\n",
    "\n",
    "def defangIPaddr(address):\n",
    "    address = address.split('.') #splits string into a list\n",
    "    return '[.]'.join(address)\n",
    "\n",
    "address = \"1.1.1.1.1\"\n",
    "\n",
    "defangIPaddr(address)"
   ]
  },
  {
   "cell_type": "code",
   "execution_count": 199,
   "metadata": {},
   "outputs": [
    {
     "data": {
      "text/plain": [
       "'1[.]2[.]3[.]4[.]5[.]6'"
      ]
     },
     "execution_count": 199,
     "metadata": {},
     "output_type": "execute_result"
    }
   ],
   "source": [
    "def defangIPaddr(address):\n",
    "    return address.replace('.','[.]')\n",
    "\n",
    "address = \"1.2.3.4.5.6\"\n",
    "\n",
    "defangIPaddr(address)\n",
    "    \n"
   ]
  },
  {
   "cell_type": "code",
   "execution_count": null,
   "metadata": {},
   "outputs": [],
   "source": [
    "\n",
    "QUESTION 3\n"
   ]
  },
  {
   "cell_type": "code",
   "execution_count": 8,
   "metadata": {},
   "outputs": [
    {
     "data": {
      "text/plain": [
       "2"
      ]
     },
     "execution_count": 8,
     "metadata": {},
     "output_type": "execute_result"
    }
   ],
   "source": [
    "def smallestEvenMultiple(n):\n",
    "    return n << (n & 1)\n",
    "\n",
    "n = 1\n",
    "    \n",
    "smallestEvenMultiple(n)"
   ]
  },
  {
   "cell_type": "code",
   "execution_count": null,
   "metadata": {},
   "outputs": [],
   "source": [
    "\n",
    "QUESTION 4\n"
   ]
  },
  {
   "cell_type": "code",
   "execution_count": 13,
   "metadata": {},
   "outputs": [
    {
     "data": {
      "text/plain": [
       "10"
      ]
     },
     "execution_count": 13,
     "metadata": {},
     "output_type": "execute_result"
    }
   ],
   "source": [
    "def maximumWealth(accounts):\n",
    "    max = 0\n",
    "    for customer in accounts:            \n",
    "        if sum(customer) > max:                \n",
    "            max = sum(customer)\n",
    "    return max\n",
    "\n",
    "accounts = [[1,5],[7,3],[3,5]]\n",
    "\n",
    "maximumWealth(accounts)"
   ]
  },
  {
   "cell_type": "code",
   "execution_count": null,
   "metadata": {},
   "outputs": [],
   "source": [
    "\n",
    "QUESTION 5\n"
   ]
  },
  {
   "cell_type": "code",
   "execution_count": 17,
   "metadata": {},
   "outputs": [
    {
     "data": {
      "text/plain": [
       "6"
      ]
     },
     "execution_count": 17,
     "metadata": {},
     "output_type": "execute_result"
    }
   ],
   "source": [
    "def mostWordsFound(sentences):\n",
    "    max_words = 0    \n",
    "    for i in sentences:\n",
    "        a = i.split(' ')\n",
    "        if max_words<len(a):\n",
    "            max_words = len(a)\n",
    "    return max_words\n",
    "\n",
    "sentences = [\"alice and bob love leetcode\", \"i think so too\", \"this is great thanks very much\"]\n",
    "\n",
    "mostWordsFound(sentences)"
   ]
  },
  {
   "cell_type": "code",
   "execution_count": null,
   "metadata": {},
   "outputs": [],
   "source": [
    "\n",
    "QUESTION 6\n"
   ]
  },
  {
   "cell_type": "code",
   "execution_count": 15,
   "metadata": {},
   "outputs": [
    {
     "data": {
      "text/plain": [
       "3"
      ]
     },
     "execution_count": 15,
     "metadata": {},
     "output_type": "execute_result"
    }
   ],
   "source": [
    "def numJewelsInStones(jewels,stones):\n",
    "    jewels_in_stones = 0\n",
    "    for j in stones: \n",
    "        if j in jewels:\n",
    "            jewels_in_stones += 1 \n",
    "    return jewels_in_stones\n",
    "\n",
    "jewels = \"aA\"\n",
    "stones = \"aAAbbbb\"    \n",
    "    \n",
    "numJewelsInStones(jewels,stones)"
   ]
  },
  {
   "cell_type": "code",
   "execution_count": null,
   "metadata": {},
   "outputs": [],
   "source": [
    "\n",
    "QUESTION 7\n"
   ]
  },
  {
   "cell_type": "code",
   "execution_count": 27,
   "metadata": {},
   "outputs": [
    {
     "data": {
      "text/plain": [
       "'hello'"
      ]
     },
     "execution_count": 27,
     "metadata": {},
     "output_type": "execute_result"
    }
   ],
   "source": [
    "def toLowerCase(s):\n",
    "    for character in s:\n",
    "        if character == character.upper():\n",
    "            s = s.replace(character, character.lower())\n",
    "        return s\n",
    "    \n",
    "s = \"Hello\"\n",
    "\n",
    "toLowerCase(s)"
   ]
  },
  {
   "cell_type": "code",
   "execution_count": null,
   "metadata": {},
   "outputs": [],
   "source": [
    "\n",
    "QUESTION 8"
   ]
  },
  {
   "cell_type": "code",
   "execution_count": 49,
   "metadata": {},
   "outputs": [
    {
     "ename": "AttributeError",
     "evalue": "'list' object has no attribute 'items'",
     "output_type": "error",
     "traceback": [
      "\u001b[0;31m---------------------------------------------------------------------------\u001b[0m",
      "\u001b[0;31mAttributeError\u001b[0m                            Traceback (most recent call last)",
      "Input \u001b[0;32mIn [49]\u001b[0m, in \u001b[0;36m<cell line: 14>\u001b[0;34m()\u001b[0m\n\u001b[1;32m     11\u001b[0m names \u001b[38;5;241m=\u001b[39m [\u001b[38;5;124m\"\u001b[39m\u001b[38;5;124mMary\u001b[39m\u001b[38;5;124m\"\u001b[39m,\u001b[38;5;124m\"\u001b[39m\u001b[38;5;124mJohn\u001b[39m\u001b[38;5;124m\"\u001b[39m,\u001b[38;5;124m\"\u001b[39m\u001b[38;5;124mEmma\u001b[39m\u001b[38;5;124m\"\u001b[39m]\n\u001b[1;32m     12\u001b[0m heights \u001b[38;5;241m=\u001b[39m [\u001b[38;5;241m180\u001b[39m,\u001b[38;5;241m165\u001b[39m,\u001b[38;5;241m170\u001b[39m]\n\u001b[0;32m---> 14\u001b[0m \u001b[43msortPeople\u001b[49m\u001b[43m(\u001b[49m\u001b[43mnames\u001b[49m\u001b[43m,\u001b[49m\u001b[43mheights\u001b[49m\u001b[43m)\u001b[49m\n",
      "Input \u001b[0;32mIn [49]\u001b[0m, in \u001b[0;36msortPeople\u001b[0;34m(names, heights)\u001b[0m\n\u001b[1;32m      6\u001b[0m         heights\u001b[38;5;241m.\u001b[39mremove(value)\n\u001b[1;32m      7\u001b[0m         \u001b[38;5;28;01mbreak\u001b[39;00m\n\u001b[0;32m----> 8\u001b[0m \u001b[38;5;28msorted\u001b[39m(\u001b[43mheights\u001b[49m\u001b[38;5;241;43m.\u001b[39;49m\u001b[43mitems\u001b[49m(), key\u001b[38;5;241m=\u001b[39m\u001b[38;5;28;01mlambda\u001b[39;00m x:x[\u001b[38;5;241m1\u001b[39m])\n\u001b[1;32m      9\u001b[0m result \u001b[38;5;241m=\u001b[39m \u001b[38;5;28mlist\u001b[39m(heights[\u001b[38;5;241m0\u001b[39m]\u001b[38;5;241m.\u001b[39mitems())\n",
      "\u001b[0;31mAttributeError\u001b[0m: 'list' object has no attribute 'items'"
     ]
    }
   ],
   "source": [
    "def sortPeople(names, heights):\n",
    "    res = {}\n",
    "    for key in names:\n",
    "        for value in heights:\n",
    "            res[key] = value\n",
    "            heights.remove(value)\n",
    "            break\n",
    "    sorted(heights.items(), key=lambda x:x[1])\n",
    "    result = list(heights[0].items())\n",
    "\n",
    "names = [\"Mary\",\"John\",\"Emma\"]\n",
    "heights = [180,165,170]\n",
    "\n",
    "sortPeople(names,heights)"
   ]
  },
  {
   "cell_type": "code",
   "execution_count": null,
   "metadata": {},
   "outputs": [],
   "source": []
  }
 ],
 "metadata": {
  "kernelspec": {
   "display_name": "Python 3 (ipykernel)",
   "language": "python",
   "name": "python3"
  },
  "language_info": {
   "codemirror_mode": {
    "name": "ipython",
    "version": 3
   },
   "file_extension": ".py",
   "mimetype": "text/x-python",
   "name": "python",
   "nbconvert_exporter": "python",
   "pygments_lexer": "ipython3",
   "version": "3.10.7"
  }
 },
 "nbformat": 4,
 "nbformat_minor": 2
}
